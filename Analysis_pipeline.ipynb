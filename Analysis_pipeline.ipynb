{
 "cells": [
  {
   "cell_type": "markdown",
   "metadata": {},
   "source": [
    "# VanGo\n",
    "\n",
    "#### When you're visiting a museum there is too much to see in a limited time. You have to make a choice, and there should be a way to take into account your personal interests. \n",
    "\n",
    "This is why I created a prototype of VanGo, a recommendation algorithm which takes a user input - in the prototype, a word - and searches through museum's collection to suggest most fitting art pieces. Below you will find the meat of the algorithm. \n",
    "\n",
    "I took advantage of experts' knowledge to extract information about the collection by harvesting curatorial descriptions. \n",
    "\n",
    "0. Quering SPARQL database to extract http addresses of all painitings in the collection (not included in this notebook)\n",
    "1. loading JSON file with http addresses of paintings\n",
    "2. scraping the http addresses and dumping html-s into one place\n",
    "3. cleaning the htmls using REGEX and extracting the descriptions\n",
    "4. Natural Language Processing - tokenizing, TFIDF, Vectorizer\n",
    "5. Principal Component Analysis\n",
    "6. Projecting vectorized descriptions onto PCA space\n",
    "7. Saving the results "
   ]
  },
  {
   "cell_type": "markdown",
   "metadata": {},
   "source": [
    "# Importing "
   ]
  },
  {
   "cell_type": "code",
   "execution_count": null,
   "metadata": {
    "collapsed": true
   },
   "outputs": [],
   "source": [
    "import os\n",
    "import nltk\n",
    "import re\n",
    "import pickle\n",
    "import numpy as np\n",
    "import pandas as pd\n",
    "\n",
    "from spacy.en import English\n",
    "from nltk.tokenize import RegexpTokenizer\n",
    "from nltk.stem.porter import PorterStemmer\n",
    "from stop_words import get_stop_words\n",
    "\n",
    "from sklearn.feature_extraction.text import CountVectorizer\n",
    "from sklearn.feature_extraction.text import TfidfVectorizer\n",
    "from sklearn.decomposition import PCA\n",
    "from sklearn.preprocessing import normalize\n",
    "\n",
    "import matplotlib.pyplot as plt\n",
    "\n",
    "%matplotlib inline\n"
   ]
  },
  {
   "cell_type": "markdown",
   "metadata": {},
   "source": [
    "## List of directories - fill them in"
   ]
  },
  {
   "cell_type": "code",
   "execution_count": null,
   "metadata": {
    "collapsed": true
   },
   "outputs": [],
   "source": [
    "curatorial_description_dump = os.listdir('')\n",
    "physical_description_dump = os.listdir('')\n",
    "image_dump = os.listdir('')\n",
    "location_dump = os.listdir('')"
   ]
  },
  {
   "cell_type": "markdown",
   "metadata": {},
   "source": [
    "### !!! feedback\n",
    "\n",
    "* have one cell where import data \n",
    "* describe how data is structured [json files with http addresses]."
   ]
  },
  {
   "cell_type": "code",
   "execution_count": 114,
   "metadata": {
    "collapsed": true
   },
   "outputs": [],
   "source": [
    "def read_dump_to_lookup(data_dump):\n",
    "    '''\n",
    "    reads from a list of file names and creates a dictionary in which\n",
    "    keys are file names and values are the content of those files. \n",
    "    File names are unique and are http addresses of the original source.\n",
    "    \n",
    "    included brute error handling to manage corrupt data \n",
    "    '''\n",
    "    lookup = {}\n",
    "    for i, dump in enumerate(data_dump):\n",
    "        file_name = data_dump[i]\n",
    "        try:\n",
    "            with open(file_name, 'r') as f:\n",
    "                lookup[file_name] = f.read()\n",
    "        except:\n",
    "            pass\n",
    "    return lookup"
   ]
  },
  {
   "cell_type": "code",
   "execution_count": null,
   "metadata": {
    "collapsed": true
   },
   "outputs": [],
   "source": [
    "curatorial_description_lookup = read_dump_to_lookup(curatorial_description_dump)\n",
    "image_lookup = read_dump_to_lookup(image_dump)\n",
    "physical_descriptions_lookup = read_dump_to_lookup(physical_descriptions_lookup)\n",
    "location_lookup = read_dump_to_lookup(location_lookup)"
   ]
  },
  {
   "cell_type": "markdown",
   "metadata": {},
   "source": [
    "# Data cleaning "
   ]
  },
  {
   "cell_type": "code",
   "execution_count": 10,
   "metadata": {
    "collapsed": true
   },
   "outputs": [],
   "source": [
    "my_dict = {'a', 'b', 'c'}\n",
    "your_dict = {'b', 'c', 'd'}\n",
    "their_dict = {'a', 'b', 'd'}\n",
    "h = [my_dict,your_dict,their_dict]"
   ]
  },
  {
   "cell_type": "markdown",
   "metadata": {},
   "source": [
    "## Add function "
   ]
  },
  {
   "cell_type": "code",
   "execution_count": 9,
   "metadata": {
    "collapsed": false
   },
   "outputs": [
    {
     "data": {
      "text/plain": [
       "{'b'}"
      ]
     },
     "execution_count": 9,
     "metadata": {},
     "output_type": "execute_result"
    }
   ],
   "source": [
    "def ensure_all_fields_present(t,data_lookups):\n",
    "\n",
    "shared_dictionary = my_dict.intersection(your_dict, their_dict)\n",
    "\n"
   ]
  },
  {
   "cell_type": "code",
   "execution_count": 142,
   "metadata": {
    "collapsed": false
   },
   "outputs": [
    {
     "name": "stdout",
     "output_type": "stream",
     "text": [
      "set([])\n",
      "set([])\n",
      "set([])\n"
     ]
    }
   ],
   "source": [
    "print set(curatorial_descriptions_lookup.keys())-set(physical_descriptions_lookup.keys())\n",
    "print set(physical_descriptions_lookup.keys())-set(curatorial_descriptions_lookup.keys())\n",
    "print set(image_lookup.keys())-set(curatorial_descriptions_lookup.keys())"
   ]
  },
  {
   "cell_type": "code",
   "execution_count": 127,
   "metadata": {
    "collapsed": true
   },
   "outputs": [],
   "source": [
    "#paintings dataset\n",
    "del physical_descriptions_lookup['http:__collection.britishmuseum.org_id_object_234114']\n",
    "del curatorial_descriptions_lookup['http:__collection.britishmuseum.org_id_object_233926']\n",
    "del curatorial_descriptions_lookup['http:__collection.britishmuseum.org_id_object_R_1984-0203-0-11-b']\n",
    "del image_lookup['http:__collection.britishmuseum.org_id_object_R_1984-0203-0-11-b']\n",
    "del image_lookup['http:__collection.britishmuseum.org_id_object_233926']\n"
   ]
  },
  {
   "cell_type": "code",
   "execution_count": 21,
   "metadata": {
    "collapsed": true
   },
   "outputs": [],
   "source": [
    "#drawings dataset\n",
    "\n",
    "del physical_descriptions_lookup['http:__collection.britishmuseum.org_id_object_P_1842-0806-373']\n",
    "del physical_descriptions_lookup['http:__collection.britishmuseum.org_id_object_GAA88165']\n",
    "del physical_descriptions_lookup['http:__collection.britishmuseum.org_id_object_3364045']\n",
    "del physical_descriptions_lookup['http:__collection.britishmuseum.org_id_object_PDO13226']\n",
    "\n",
    "del curatorial_descriptions_lookup['http:__collection.britishmuseum.org_id_object_1430470']\n",
    "del curatorial_descriptions_lookup['http:__collection.britishmuseum.org_id_object_P_1871-1209-6287']\n",
    "del curatorial_descriptions_lookup['http:__collection.britishmuseum.org_id_object_3420068']\n",
    "del curatorial_descriptions_lookup['http:__collection.britishmuseum.org_id_object_GAA87550']\n",
    "del curatorial_descriptions_lookup['http:__collection.britishmuseum.org_id_object_GAA87533']\n",
    "\n",
    "del image_lookup['http:__collection.britishmuseum.org_id_object_1430470']\n",
    "del image_lookup['http:__collection.britishmuseum.org_id_object_GAA87533']\n",
    "del image_lookup['http:__collection.britishmuseum.org_id_object_GAA88165']\n",
    "del image_lookup['http:__collection.britishmuseum.org_id_object_P_1871-1209-6287']\n",
    "del image_lookup['http:__collection.britishmuseum.org_id_object_PDO13226']\n",
    "del image_lookup['http:__collection.britishmuseum.org_id_object_GAA87550']\n"
   ]
  },
  {
   "cell_type": "markdown",
   "metadata": {},
   "source": [
    "# Tokenizing and stemming"
   ]
  },
  {
   "cell_type": "code",
   "execution_count": null,
   "metadata": {
    "collapsed": true
   },
   "outputs": [],
   "source": [
    "p_stemmer = PorterStemmer()\n",
    "tokenizer = RegexpTokenizer(r'\\w+[a-z]')\n",
    "en_stop = get_stop_words('en')\n",
    "\n",
    "def tokenizing_stemming(curatorial_description):\n",
    "    '''\n",
    "    function to tokenize and stem long descriptions\n",
    "    \n",
    "    input: string (single curatorial description)\n",
    "    output: list of strings (stemmed tokens)\n",
    "    '''\n",
    "    #TOKENIZING\n",
    "    stringed=str(curatorial_description)\n",
    "    tokens = tokenizer.tokenize(stringed)\n",
    "    raw = stringed.lower()\n",
    "    tokens = tokenizer.tokenize(raw)\n",
    "\n",
    "    #REMOVING STOP WORDS\n",
    "    # create English stop words list\n",
    "    # remove stop words from tokens\n",
    "    stopped_tokens = [i for i in tokens if not i in en_stop]\n",
    "\n",
    "    #STEMMING\n",
    "    # stem token\n",
    "    stemmed_tokens = [p_stemmer.stem(i) for i in stopped_tokens]\n",
    "    stemmed_tokens = ' '.join(stemmed_tokens)\n",
    "\n",
    "    return stemmed_tokens\n",
    "\n",
    "#TO DO: remove words such as \"span\" \"div\" \"british museum\" and maybe also first and last names\n",
    "\n",
    "def cleaning_images_finding_http(images_text):\n",
    "    '''\n",
    "    function which pulls out the http address for image corresponding to description\n",
    "    \n",
    "    input: string (long string from a website)\n",
    "    output: string (http address pointing to an image)\n",
    "    '''\n",
    "    if images_text !=\"None\":\n",
    "        pull_out_http = re.split(\" \",images_text)\n",
    "        #print pull_out_http\n",
    "        http_address = re.findall('http[s]?://(?:[a-zA-Z]|[0-9]|[$-_@.&+]|[!*\\(\\),]|(?:%[0-9a-fA-F][0-9a-fA-F]))+',pull_out_http[3])\n",
    "        http_address = http_address[0]\n",
    "    else:\n",
    "        http_address = \"None\"\n",
    "    return http_address\n",
    "\n",
    "def cleaning_htmltags_whitespace(text):\n",
    "    '''\n",
    "    function to strip html from tags (e.g. '\\n'), extra spaces and unicode\n",
    "    \n",
    "    input: string (long html)\n",
    "    output: sting (only description)\n",
    "    '''\n",
    "    new_text = re.sub(r\"</?[a-zA-Z]*>\", ' ',text)\n",
    "\n",
    "    no_newlines = re.sub(r'\\n',' ', new_text)\n",
    "    no_unicode = re.sub(r'[^\\x00-\\x7F]+',' ', no_newlines)\n",
    "    #print no_unicode\n",
    "    no_extraspaces = re.sub(r\"\\s{2,}\",' ',no_unicode)\n",
    "    no_search = re.sub(r\"None\", '',no_extraspaces)\n",
    "    \n",
    "    return no_search\n",
    "\n",
    "def spacy_tokenizer_lemmatizer(text):\n",
    "    \"\"\"\n",
    "    Take a unicode string of text and return a list containing the lemmatized tokens\n",
    "    Output: list of lemmatized tokens\n",
    "    \"\"\"\n",
    "    parsed_data = parser(text)\n",
    "    list_of_lemmatized_tokens = [token.lemma_ for token in parsed_data]\n",
    "    return list_of_lemmatized_tokens"
   ]
  },
  {
   "cell_type": "markdown",
   "metadata": {},
   "source": [
    "## return to it later\n",
    "\n",
    "### reason for not pulling out the values from the dictionary: .values() scrambles the order which would mess up the attempt to .join() later"
   ]
  },
  {
   "cell_type": "code",
   "execution_count": 143,
   "metadata": {
    "collapsed": false
   },
   "outputs": [],
   "source": [
    "not_cleaned_description_pairs_p=[]\n",
    "for link, curatorial_desription in physical_descriptions_lookup.iteritems():\n",
    "    try:\n",
    "        not_cleaned_description_pairs_p.append((link, curatorial_desription))\n",
    "    except Exception as e:\n",
    "        print e.message\n",
    "\n",
    "not_clean_descriptions_physical = [pair[1] for pair in not_cleaned_description_pairs_p]"
   ]
  },
  {
   "cell_type": "code",
   "execution_count": 144,
   "metadata": {
    "collapsed": false
   },
   "outputs": [],
   "source": [
    "not_cleaned_description_pairs_c=[]\n",
    "for link, curatorial_desription in curatorial_descriptions_lookup.iteritems():\n",
    "    try:\n",
    "        not_cleaned_description_pairs_c.append((link, curatorial_desription))\n",
    "    except Exception as e:\n",
    "        print e.message\n",
    "\n",
    "not_clean_descriptions_curatorial = [pair[1] for pair in not_cleaned_description_pairs_c]"
   ]
  },
  {
   "cell_type": "code",
   "execution_count": 130,
   "metadata": {
    "collapsed": true
   },
   "outputs": [],
   "source": [
    "not_cleaned_images=[]\n",
    "for link, image in image_lookup.iteritems():\n",
    "    try:\n",
    "        not_cleaned_images.append((link, image))\n",
    "    except Exception as e:\n",
    "        print e.message\n",
    "\n",
    "images_ = [pair[1] for pair in not_cleaned_images]"
   ]
  },
  {
   "cell_type": "code",
   "execution_count": 131,
   "metadata": {
    "collapsed": false
   },
   "outputs": [],
   "source": [
    "links = []\n",
    "for image in images_:\n",
    "    links.append(cleaning_images_finding_http(image))"
   ]
  },
  {
   "cell_type": "code",
   "execution_count": 133,
   "metadata": {
    "collapsed": true
   },
   "outputs": [],
   "source": [
    "#links = [tup[0] for tup in not_cleaned_description_pairs_c]\n",
    "descriptions = [tup[1] for tup in not_cleaned_description_pairs_c]\n"
   ]
  },
  {
   "cell_type": "code",
   "execution_count": 698,
   "metadata": {
    "collapsed": false
   },
   "outputs": [
    {
     "data": {
      "text/plain": [
       "('http:__collection.britishmuseum.org_id_object_R_1965-1011-0-1',\n",
       " '<div>\\n<span><span>Rawson 1992:\\n\\nWen Zhengming was the leading amateur-literati painter of the 16th century and, with Shen Zhou (1427-1509), one of the principal artists of the Wu school of the scholars-officials. Both of them looked back to the work of the Yuan masters and were preoccupied with the identification of different forms of brushwork as suitably expressive for different occasions. \\n\\nThis painting was said by him to have been inspired by the work of Li Cheng, a tenth-century landscape artist. Its spare, rather dry brushwork again repeats the deliberately simple, austere quality that is the feature of many so-called literati paintings.</span></span>\\n</div>')"
      ]
     },
     "execution_count": 698,
     "metadata": {},
     "output_type": "execute_result"
    }
   ],
   "source": [
    "not_cleaned_description_pairs_c[103]"
   ]
  },
  {
   "cell_type": "markdown",
   "metadata": {},
   "source": [
    "## join physical and curatorial descriptions "
   ]
  },
  {
   "cell_type": "code",
   "execution_count": 147,
   "metadata": {
    "collapsed": false
   },
   "outputs": [],
   "source": [
    "joined_descriptions = map(\"\".join,zip(not_clean_descriptions_curatorial,not_clean_descriptions_physical))"
   ]
  },
  {
   "cell_type": "code",
   "execution_count": 148,
   "metadata": {
    "collapsed": true
   },
   "outputs": [],
   "source": [
    "clean_description=[]\n",
    "for curatorial_physical in joined_descriptions:\n",
    "    clean_description.append(cleaning_htmltags_whitespace(curatorial_physical))\n"
   ]
  },
  {
   "cell_type": "code",
   "execution_count": 636,
   "metadata": {
    "collapsed": false
   },
   "outputs": [
    {
     "data": {
      "text/plain": [
       "[' Dallapiccola 2010: This painting, as in other drawings in this series, conveys a remarkable sense of space. This painting comes from an album of fifteen paintings (2005,0716,0.1.1-15) illustrating scenes somewhat different from those usually included in trade and occupation albums. The drawings are carefully executed, with great attention to detail. The palette is vivid without being garish, and gold is lavishly used in the rendering of jewellery, sari borders and, among others, the shrine in 2005,0716,0.1.3. The artist proudly displays his versatility in 2005,0716,0.1.6 and 2005,0716,0.1.8; these works imitate the Deccani and Mughal styles respectively. , South Indian paintings have been much less studied than have paintings from the north Indian schools. Nevertheles, the holdings of the museum are over 800 in number and of interest - particularly with respect to a forthcoming BMP publication on south Indian paintings in the British Museum (by A. Dallapiccola). Opaque watercolour painting on paper of a man dressed in Maratha costume, a sword resting on his right shoulder, riding on a horse, preceded by a barefoot syce wearing short trousers and a turban. Behind him walks a turbaned retainer, in loose trousers and a jama, resting his sword on his right shoulder, followed by yet another turbaned man in short trousers wearing an angavastra (shawl) tied across his chest. At the centre of the picture a female figure enveloped in a burqa, with a latticed slit for the eyes, rides on a caparisoned bullock, which wears horn and neck decorations. This figure is followed by a palanquin at the side of which walk two bejewelled women dressed in skirts and odhnis (length of cloth over shoulders and head), probably attendants of the lady travelling in the conveyance. The palanquin is carried by four men wearing short trousers, jama and turbans, with ear ornaments both in the helix and the lobe. The procession is set on a yellow foreground: noteworthy is the line, perhaps suggesting the figures own shadow, beneath their feet. In the background is a ploughed field with a line of trees in the distance. ',\n",
       " ' Painting. Boy with tortoise. Ink and light colours on paper. .... Collection, 532. ',\n",
       " \" The sketch has been made on the back of the cover to a dance recital programme held in Kyoto in May,1929 (see Inscription field). Tagore was on his way to America in 1929 but was delayed entry there by some problem with the US authorities. He took ship for Japan and went to Kyoto. This sketch was made in Japan at that time. The Miyako Hotel where the dance recital was held still exists in Kyoto. A sketch on beige paper of a quartet of people (heads only) in red wash; the person second from the left is Gretchen Green, Tagore's secretary and Tagore himself is the large face on the right (info. from Indar Pasricha). The other faces seem to Indian and the first left, possibly a lady in a sari (Tagore's wife?). \",\n",
       " \" This is from a series of eighty-four paintings on European paper and was once stored in a folder labelled: 'Ramayana Subjects, Deccani School: 1800-1805 (on European paper)'. Gouache painting on paper. An illustration from the Ramayana. R ma addresses S ta on her return from Lanka. They are seated together under a tree with members of the monkey army behind. The painting is framed by a red and gold border, which has been adhered to the paper. \",\n",
       " \" This is from a series of eighty-four paintings on European paper and was once stored in a folder labelled: 'Ramayana Subjects, Deccani School: 1800-1805 (on European paper)'. Gouache painting on paper. An illustration from the Ramayana. R ma, seated on a lotus, addresses the monkey army. The painting is framed by a red and gold border, which has been adhered to the paper. \"]"
      ]
     },
     "execution_count": 636,
     "metadata": {},
     "output_type": "execute_result"
    }
   ],
   "source": [
    "clean_description[28345:28350]"
   ]
  },
  {
   "cell_type": "code",
   "execution_count": 40,
   "metadata": {
    "collapsed": false
   },
   "outputs": [],
   "source": [
    "with open('joined_cleaned_descriptions_drawings','w') as f:\n",
    "    pickle.dump(clean_description,f)"
   ]
  },
  {
   "cell_type": "code",
   "execution_count": 186,
   "metadata": {
    "collapsed": true
   },
   "outputs": [],
   "source": [
    "clean_description_=clean_description[20000:]"
   ]
  },
  {
   "cell_type": "code",
   "execution_count": 692,
   "metadata": {
    "collapsed": false
   },
   "outputs": [
    {
     "data": {
      "text/plain": [
       "' Rawson 1992: Wen Zhengming was the leading amateur-literati painter of the 16th century and, with Shen Zhou (1427-1509), one of the principal artists of the Wu school of the scholars-officials. Both of them looked back to the work of the Yuan masters and were preoccupied with the identification of different forms of brushwork as suitably expressive for different occasions. This painting was said by him to have been inspired by the work of Li Cheng, a tenth-century landscape artist. Its spare, rather dry brushwork again repeats the deliberately simple, austere quality that is the feature of many so-called literati paintings. Hanging scroll. Landscape. Bare trees in winter, with reference to Li Cheng (919-67) and a river. Painted in a very dry style. Inscriptions and seals. Ink on paper '"
      ]
     },
     "execution_count": 692,
     "metadata": {},
     "output_type": "execute_result"
    }
   ],
   "source": [
    "clean_description[103]"
   ]
  },
  {
   "cell_type": "code",
   "execution_count": 187,
   "metadata": {
    "collapsed": false
   },
   "outputs": [],
   "source": [
    "parser = English()\n",
    "tokenized_descriptions=[]\n",
    "for description in clean_description_:\n",
    "    #try:\n",
    "    tokenized_descriptions.append(spacy_tokenizer_lemmatizer(unicode(description)))\n",
    "#     except:\n",
    "#         pass\n"
   ]
  },
  {
   "cell_type": "code",
   "execution_count": 181,
   "metadata": {
    "collapsed": false
   },
   "outputs": [],
   "source": [
    "with open('tokenized_descriptions_drawings_paintings', 'r') as g:\n",
    "    tddp = pickle.load(g)"
   ]
  },
  {
   "cell_type": "code",
   "execution_count": 170,
   "metadata": {
    "collapsed": false
   },
   "outputs": [],
   "source": [
    "links = links_paintings + links_drawings"
   ]
  },
  {
   "cell_type": "code",
   "execution_count": 699,
   "metadata": {
    "collapsed": false
   },
   "outputs": [
    {
     "data": {
      "text/plain": [
       "[u' ',\n",
       " u'painting',\n",
       " u'.',\n",
       " u'landscape',\n",
       " u'.',\n",
       " u'devotion',\n",
       " u'.',\n",
       " u'scene',\n",
       " u'from',\n",
       " u'forest',\n",
       " u'life',\n",
       " u'include',\n",
       " u'worship',\n",
       " u'at',\n",
       " u'a',\n",
       " u'shrine',\n",
       " u'.',\n",
       " u'wash',\n",
       " u'in',\n",
       " u'dung',\n",
       " u'(',\n",
       " u'cow',\n",
       " u'in',\n",
       " u'solution',\n",
       " u')',\n",
       " u'and',\n",
       " u'paint',\n",
       " u'in',\n",
       " u'white',\n",
       " u'on',\n",
       " u'paper',\n",
       " u'(',\n",
       " u'brown',\n",
       " u')',\n",
       " u'.',\n",
       " u'sign',\n",
       " u'.']"
      ]
     },
     "execution_count": 699,
     "metadata": {},
     "output_type": "execute_result"
    }
   ],
   "source": [
    "tokenized_descriptions[103]"
   ]
  },
  {
   "cell_type": "code",
   "execution_count": 179,
   "metadata": {
    "collapsed": true
   },
   "outputs": [],
   "source": [
    "with open('links_paintings_drawings','w') as f:\n",
    "    pickle.dump(links,f)"
   ]
  },
  {
   "cell_type": "code",
   "execution_count": 189,
   "metadata": {
    "collapsed": false
   },
   "outputs": [
    {
     "name": "stdout",
     "output_type": "stream",
     "text": [
      "[u' ', u'the', u'manual', u'be', u'compose', u'of', u'141', u'sheet', u'by', u'prince', u'pu', u'quan', u'and', u'katherine', u'talati', u';', u'ink', u'or', u'ink', u'and', u'colour', u'on', u'paper', u'or', u'silk', u';', u'show', u'motif', u'to', u'compose', u'landscape', u'.', u'the', u'sheet', u'be', u'loose', u'and', u'store', u'in', u'a', u'brocade', u'box', u',', u'apart', u'from', u'three', u'which', u'be', u'frame', u'.', u'paint', u'(', u'one', u'of', u'138', u'sheet', u'keep', u'in', u'brocade', u'box', u')', u'.', u'texture', u'stroke', u'for', u'rock', u'and', u'mountain', u'peak', u';', u'ink', u'on', u'paper', u';', u'from', u'a', u'painting', u'manual', u'.', u'pencil', u'note', u\"'\", u'dian', u'(', u'dot', u')', u'-', u'wrinkle', u'-', u'shape', u'line', u\"'\", u'on', u'back', u'.']\n",
      "12250\n"
     ]
    }
   ],
   "source": [
    "with open('tokenized_descriptions_paintings_20000+','w') as f:\n",
    "    pickle.dump(tokenized_descriptions,f)"
   ]
  },
  {
   "cell_type": "code",
   "execution_count": 259,
   "metadata": {
    "collapsed": true
   },
   "outputs": [],
   "source": [
    "tokenized_descriptions_paintings = tokenized_20000 + tokenized_20000_"
   ]
  },
  {
   "cell_type": "code",
   "execution_count": 262,
   "metadata": {
    "collapsed": false
   },
   "outputs": [],
   "source": [
    "with open('tokenized_descriptions_drawings_all', 'r') as g:\n",
    "    tokenized_descriptions_drawings = pickle.load(g)\n",
    "#tokenized_paintings_all=tokenized_descriptions + tokenized_20000"
   ]
  },
  {
   "cell_type": "code",
   "execution_count": 263,
   "metadata": {
    "collapsed": true
   },
   "outputs": [],
   "source": [
    "tokenized_descriptions_paintings_drawings = tokenized_descriptions_paintings + tokenized_descriptions_drawings"
   ]
  },
  {
   "cell_type": "code",
   "execution_count": 693,
   "metadata": {
    "collapsed": false
   },
   "outputs": [
    {
     "name": "stdout",
     "output_type": "stream",
     "text": [
      "[u' ', u'rawson', u'1992', u':', u'wen', u'zhengming', u'be', u'the', u'lead', u'amateur', u'-', u'literati', u'painter', u'of', u'the', u'16th', u'century', u'and', u',', u'with', u'shen', u'zhou', u'(', u'1427', u'-', u'1509', u')', u',', u'one', u'of', u'the', u'principal', u'artist', u'of', u'the', u'wu', u'school', u'of', u'the', u'scholar', u'-', u'official', u'.', u'both', u'of', u'them', u'look', u'back', u'to', u'the', u'work', u'of', u'the', u'yuan', u'master', u'and', u'be', u'preoccupy', u'with', u'the', u'identification', u'of', u'different', u'form', u'of', u'brushwork', u'as', u'suitably', u'expressive', u'for', u'different', u'occasion', u'.', u'this', u'painting', u'be', u'say', u'by', u'him', u'to', u'have', u'be', u'inspire', u'by', u'the', u'work', u'of', u'li', u'cheng', u',', u'a', u'tenth', u'-', u'century', u'landscape', u'artist', u'.', u'its', u'spare', u',', u'rather', u'dry', u'brushwork', u'again', u'repeat', u'the', u'deliberately', u'simple', u',', u'austere', u'quality', u'that', u'be', u'the', u'feature', u'of', u'many', u'so', u'-', u'call', u'literati', u'painting', u'.', u'hang', u'scroll', u'.', u'landscape', u'.', u'bare', u'tree', u'in', u'winter', u',', u'with', u'reference', u'to', u'li', u'cheng', u'(', u'919', u'-', u'67', u')', u'and', u'a', u'river', u'.', u'paint', u'in', u'a', u'very', u'dry', u'style', u'.', u'inscription', u'and', u'seal', u'.', u'ink', u'on', u'paper']\n"
     ]
    },
    {
     "data": {
      "text/plain": [
       "'http://www.britishmuseum.org/collectionimages/AN01034/AN01034144_001_l.jpg'"
      ]
     },
     "execution_count": 693,
     "metadata": {},
     "output_type": "execute_result"
    }
   ],
   "source": [
    "print tokenized_descriptions_paintings_drawings[103]\n",
    "links[31111]"
   ]
  },
  {
   "cell_type": "code",
   "execution_count": 258,
   "metadata": {
    "collapsed": false
   },
   "outputs": [
    {
     "data": {
      "text/plain": [
       "12250"
      ]
     },
     "execution_count": 258,
     "metadata": {},
     "output_type": "execute_result"
    }
   ],
   "source": [
    "len(tokenized_20000_)"
   ]
  },
  {
   "cell_type": "code",
   "execution_count": 274,
   "metadata": {
    "collapsed": true
   },
   "outputs": [],
   "source": [
    "with open('tokenized_descriptions_paintings_drawings','w') as f:\n",
    "    pickle.dump(tokenized_descriptions_paintings_drawings,f)"
   ]
  },
  {
   "cell_type": "code",
   "execution_count": 138,
   "metadata": {
    "collapsed": false
   },
   "outputs": [
    {
     "name": "stdout",
     "output_type": "stream",
     "text": [
      "/Users/virginiakinniburgh/Desktop\n"
     ]
    }
   ],
   "source": [
    "cd Desktop"
   ]
  },
  {
   "cell_type": "code",
   "execution_count": 212,
   "metadata": {
    "collapsed": false
   },
   "outputs": [],
   "source": [
    "with open('links_paintings_drawings', 'r') as g:\n",
    "    links_ = pickle.load(g)\n",
    "    \n",
    "with open('joined_token_list_paintings_drawings', 'r') as t:\n",
    "    tokens = pickle.load(t)\n"
   ]
  },
  {
   "cell_type": "code",
   "execution_count": 229,
   "metadata": {
    "collapsed": false
   },
   "outputs": [
    {
     "data": {
      "text/plain": [
       "'http://www.britishmuseum.org/collectionimages/AN01248/AN01248077_001_l.jpg'"
      ]
     },
     "execution_count": 229,
     "metadata": {},
     "output_type": "execute_result"
    }
   ],
   "source": [
    "links_[32291]"
   ]
  },
  {
   "cell_type": "code",
   "execution_count": 207,
   "metadata": {
    "collapsed": false
   },
   "outputs": [
    {
     "data": {
      "text/plain": [
       "69787"
      ]
     },
     "execution_count": 207,
     "metadata": {},
     "output_type": "execute_result"
    }
   ],
   "source": [
    "len(joined_token_list_paintings_drawings)"
   ]
  },
  {
   "cell_type": "code",
   "execution_count": 100,
   "metadata": {
    "collapsed": false
   },
   "outputs": [],
   "source": [
    "tokenized_descriptions_ = dump2"
   ]
  },
  {
   "cell_type": "code",
   "execution_count": 97,
   "metadata": {
    "collapsed": false
   },
   "outputs": [],
   "source": [
    "with open('links_drawings','w') as f:\n",
    "    pickle.dump(links,f)"
   ]
  },
  {
   "cell_type": "code",
   "execution_count": 275,
   "metadata": {
    "collapsed": false
   },
   "outputs": [],
   "source": [
    "joined_token_list=[]\n",
    "for token_list in tokenized_descriptions_paintings_drawings:\n",
    "    joined_token_list.append(\" \".join(token_list))"
   ]
  },
  {
   "cell_type": "code",
   "execution_count": 276,
   "metadata": {
    "collapsed": true
   },
   "outputs": [],
   "source": [
    "joined_token_list_paintings_drawings = joined_token_list"
   ]
  },
  {
   "cell_type": "code",
   "execution_count": 700,
   "metadata": {
    "collapsed": false
   },
   "outputs": [
    {
     "name": "stdout",
     "output_type": "stream",
     "text": [
      "  rawson 1992 : wen zhengming be the lead amateur - literati painter of the 16th century and , with shen zhou ( 1427 - 1509 ) , one of the principal artist of the wu school of the scholar - official . both of them look back to the work of the yuan master and be preoccupy with the identification of different form of brushwork as suitably expressive for different occasion . this painting be say by him to have be inspire by the work of li cheng , a tenth - century landscape artist . its spare , rather dry brushwork again repeat the deliberately simple , austere quality that be the feature of many so - call literati painting . hang scroll . landscape . bare tree in winter , with reference to li cheng ( 919 - 67 ) and a river . paint in a very dry style . inscription and seal . ink on paper\n",
      "http://www.britishmuseum.org/collectionimages/AN00980/AN00980334_001_l.jpg\n"
     ]
    }
   ],
   "source": [
    "print joined_token_list_paintings_drawings[103]\n",
    "print links[2257]"
   ]
  },
  {
   "cell_type": "markdown",
   "metadata": {},
   "source": [
    "## TFIDF and VECTORIZER"
   ]
  },
  {
   "cell_type": "code",
   "execution_count": 104,
   "metadata": {
    "collapsed": false
   },
   "outputs": [],
   "source": [
    "\n",
    "\n",
    "# vectorizer = CountVectorizer(max_df=0.95, min_df=2,\n",
    "#                                 stop_words='english')\n",
    "# document_matrix = vectorizer.fit_transform(joined_descriptions)\n",
    "\n",
    "# from sklearn.feature_extraction.text import TfidfTransformer\n",
    "# from sklearn.feature_extraction.text import TfidfTransformer\n",
    "# transformer = TfidfTransformer()\n",
    "# document_matrix_tfidf = transformer.fit_transform(document_matrix)\n",
    "\n",
    "\n",
    "\n",
    "\n",
    "#spacys = spacy_tokenizer_lemmatizer(text_)\n",
    "#print time.time()-time_start\n",
    "vectorizer = TfidfVectorizer(min_df=0.005, max_df=0.5, stop_words='english')\n",
    "#max_ngram = 1\n",
    "\n",
    "#vectorizer = TfidfVectorizer(min_df=min_df,\n",
    "#                ngram_range=(1, max_ngram), tokenizer=spacy_tokenizer_lemmatizer)\n",
    "#vectorizer = TfidfVectorizer(min_df=5, tokenizer=spacy_tokenizer_lemmatizer)\n",
    "\n",
    "\n"
   ]
  },
  {
   "cell_type": "code",
   "execution_count": 284,
   "metadata": {
    "collapsed": false
   },
   "outputs": [],
   "source": [
    "document_matrix_tfidf = vectorizer.fit_transform(joined_token_list)"
   ]
  },
  {
   "cell_type": "code",
   "execution_count": 702,
   "metadata": {
    "collapsed": false
   },
   "outputs": [
    {
     "data": {
      "text/plain": [
       "<1x959 sparse matrix of type '<type 'numpy.float64'>'\n",
       "\twith 27 stored elements in Compressed Sparse Row format>"
      ]
     },
     "execution_count": 702,
     "metadata": {},
     "output_type": "execute_result"
    }
   ],
   "source": [
    "document_matrix_tfidf"
   ]
  },
  {
   "cell_type": "code",
   "execution_count": 285,
   "metadata": {
    "collapsed": false
   },
   "outputs": [
    {
     "data": {
      "text/plain": [
       "959"
      ]
     },
     "execution_count": 285,
     "metadata": {},
     "output_type": "execute_result"
    }
   ],
   "source": [
    "#print tfidf.toarray()\n",
    "#print transformer.idf_ \n",
    "#print vectorizer.get_feature_names()\n",
    "len(vectorizer.get_feature_names())"
   ]
  },
  {
   "cell_type": "markdown",
   "metadata": {},
   "source": [
    "## PCA"
   ]
  },
  {
   "cell_type": "code",
   "execution_count": 286,
   "metadata": {
    "collapsed": false
   },
   "outputs": [
    {
     "name": "stdout",
     "output_type": "stream",
     "text": [
      "[ 0.03581674  0.02250942  0.02048105  0.01735392  0.01464428  0.01264963\n",
      "  0.01169498  0.01109378  0.01055545  0.00986216]\n"
     ]
    }
   ],
   "source": [
    "\n",
    "\n",
    "document_matrix_tfidf = normalize(document_matrix_tfidf, norm='l2', axis=1, copy=True)\n",
    "\n",
    "pca = PCA(n_components=10)\n",
    "pca.fit(document_matrix_tfidf.toarray())\n",
    "PCA(copy=True, n_components=10, whiten=False)\n",
    "print(pca.explained_variance_ratio_) "
   ]
  },
  {
   "cell_type": "code",
   "execution_count": 287,
   "metadata": {
    "collapsed": false
   },
   "outputs": [
    {
     "data": {
      "text/plain": [
       "(69787, 959)"
      ]
     },
     "execution_count": 287,
     "metadata": {},
     "output_type": "execute_result"
    }
   ],
   "source": [
    "document_matrix_tfidf.shape"
   ]
  },
  {
   "cell_type": "markdown",
   "metadata": {},
   "source": [
    "## Variance explaiend\n"
   ]
  },
  {
   "cell_type": "code",
   "execution_count": 288,
   "metadata": {
    "collapsed": false
   },
   "outputs": [
    {
     "data": {
      "text/plain": [
       "0.16666140560859297"
      ]
     },
     "execution_count": 288,
     "metadata": {},
     "output_type": "execute_result"
    }
   ],
   "source": [
    "sum(pca.explained_variance_ratio_)"
   ]
  },
  {
   "cell_type": "code",
   "execution_count": 289,
   "metadata": {
    "collapsed": false
   },
   "outputs": [],
   "source": [
    "document_matrix_pca_transformed = pca.transform(document_matrix_tfidf.toarray())\n",
    "\n"
   ]
  },
  {
   "cell_type": "markdown",
   "metadata": {},
   "source": [
    "## Normalize"
   ]
  },
  {
   "cell_type": "code",
   "execution_count": null,
   "metadata": {
    "collapsed": true
   },
   "outputs": [],
   "source": [
    "document_matrix_pca_transformed_norm = normalize(document_matrix_pca_transformed, norm='l2', axis=1, copy=True)"
   ]
  },
  {
   "cell_type": "code",
   "execution_count": 500,
   "metadata": {
    "collapsed": false
   },
   "outputs": [
    {
     "data": {
      "text/plain": [
       "(69787, 10)"
      ]
     },
     "execution_count": 500,
     "metadata": {},
     "output_type": "execute_result"
    }
   ],
   "source": [
    "document_matrix_pca_transformed_norm.shape"
   ]
  },
  {
   "cell_type": "markdown",
   "metadata": {},
   "source": [
    "## Cosine similarity"
   ]
  },
  {
   "cell_type": "code",
   "execution_count": 290,
   "metadata": {
    "collapsed": false
   },
   "outputs": [],
   "source": [
    "#numpy.dot(input_projection_pca, document_matrix_pca_transformed_norm(painting, :))\n",
    "#    for painting in document_matrix_pca_transformed]\n",
    "\n",
    "#for painting in document_matrix_pca_transformed\n",
    "#    similarity_score = numpy.dot(input_projection_pca, document_matrix_pca_transformed(painting, :)\n",
    "                                 \n",
    "def cosine_similarity(array2):\n",
    "    return np.dot(input_project)"
   ]
  },
  {
   "cell_type": "code",
   "execution_count": 805,
   "metadata": {
    "collapsed": false
   },
   "outputs": [
    {
     "name": "stdout",
     "output_type": "stream",
     "text": [
      "(10, 959)\n",
      "[u'0323', u'0617', u'0704', u'0713', u'10', u'102', u'11', u'12', u'121', u'1210', u'136', u'138', u'14', u'141', u'15', u'16', u'160', u'1637', u'17', u'179', u'1794', u'1795', u'18', u'1800', u'1805', u'1811', u'1814', u'1820', u'1855', u'1881', u'1886', u'18th', u'19', u'1913', u'1928', u'1929', u'1940', u'1974', u'1980', u'1981', u'1982', u'1987', u'1990', u'1992', u'1996', u'19th', u'1st', u'20', u'2003', u'2010', u'21', u'22', u'23', u'24', u'25', u'26', u'27', u'270', u'28', u'29', u'30', u'31', u'34', u'36', u'37', u'38', u'40', u'41', u'425', u'44', u'46', u'50', u'5006', u'55', u'60', u'65', u'74', u'79', u'91', u'99', u'abstract', u'accompany', u'accord', u'acquire', u'ad', u'add', u'additional', u'age', u'al', u'albert', u'album', u'altar', u'amid', u'amp', u'ancient', u'anderson', u'angel', u'animal', u'annotation', u'apart', u'apparently', u'appear', u'apply', u'approach', u'arch', u'architectural', u'architecture', u'area', u'arm', u'armed', u'armour', u'arrow', u'art', u'artist', u'arts', u'asahi', u'assemblage', u'associate', u'attach', u'attack', u'attendant', u'attribute', u'august', u'avalokite', u'away', u'background', u'bamboo', u'band', u'bank', u'banner', u'bare', u'bark', u'base', u'basket', u'battle', u'bear', u'beard', u'bearded', u'bed', u'begin', u'bell', u'belong', u'belt', u'beneath', u'berchem', u'bijutsu', u'bind', u'bird', u'birds', u'black', u'blank', u'blind', u'blossom', u'blue', u'bm', u'board', u'boat', u'bodhisattva', u'body', u'bodycolour', u'book', u'boot', u'border', u'bow', u'bowl', u'box', u'boy', u'branch', u'breast', u'bridge', u'bright', u'brilliant', u'bring', u'british', u'broad', u'brocade', u'bronze', u'brown', u'brush', u'buddha', u'buddhist', u'buff', u'build', u'building', u'bull', u'bust', u'butterfly', u'calligraphy', u'canal', u'canopy', u'canvas', u'cap', u'caption', u'card', u'care', u'carry', u'cart', u'cartouche', u'case', u'caste', u'castle', u'cat', u'catalogue', u'caterpillar', u'cattle', u'cave', u'ceiling', u'central', u'centre', u'century', u'ceremonial', u'certain', u'chair', u'chalk', u'change', u'chapter', u'character', u'charcoal', u'cherry', u'chest', u'child', u'chin', u'chinese', u'christ', u'chrysalis', u'church', u'circle', u'circular', u'city', u'clark', u'classical', u'clearly', u'cliff', u'cloak', u'close', u'cloth', u'cloud', u'coat', u'collar', u'collection', u'colour', u'coloured', u'colourful', u'column', u'come', u'commission', u'common', u'company', u'complete', u'compose', u'composition', u'confirm', u'conservation', u'consist', u'consistently', u'contain', u'content', u'continue', u'copy', u'corner', u'costume', u'cottage', u'country', u'couple', u'course', u'court', u'cover', u'cow', u'crane', u'create', u'cross', u'crown', u'cup', u'cut', u'cycle', u'dallapiccola', u'dance', u'dark', u'date', u'day', u'death', u'decorate', u'decoration', u'decorative', u'deer', u'deity', u'demon', u'depict', u'depiction', u'dept', u'derive', u'design', u'dhoti', u'di', u'different', u'direct', u'display', u'dissegni', u'distance', u'district', u'doc', u'documentary', u'dog', u'door', u'doorway', u'dot', u'double', u'dragon', u'drape', u'drapery', u'draw', u'drawing', u'dress', u'drum', u'duck', u'dynasty', u'eagle', u'ear', u'earlier', u'early', u'east', u'ed', u'edge', u'edo', u'eighteenth', u'elegant', u'element', u'elephant', u'emblem', u'emerge', u'emperor', u'end', u'english', u'engrave', u'engraving', u'entitle', u'entrance', u'eros', u'especially', u'establish', u'et', u'etching', u'eth', u'european', u'evidence', u'example', u'execute', u'extend', u'eye', u'face', u'fact', u'fall', u'family', u'famous', u'fan', u'far', u'father', u'feather', u'feature', u'female', u'fence', u'festival', u'field', u'fig', u'figure', u'fine', u'fish', u'flame', u'flank', u'floor', u'floral', u'flow', u'flower', u'fly', u'fold', u'folder', u'foliage', u'folio', u'follow', u'foot', u'foreground', u'forehead', u'forest', u'form', u'fourth', u'fragment', u'frame', u'frequently', u'fruit', u'fur', u'gallery', u'garden', u'gate', u'gem', u'general', u'generally', u'giacomo', u'girl', u'glass', u'goat', u'god', u'goddess', u'gold', u'golden', u'good', u'gouache', u'graphite', u'grass', u'great', u'green', u'grey', u'ground', u'group', u'hair', u'half', u'hall', u'hand', u'handle', u'handscroll', u'hang', u'hanging', u'hat', u'head', u'headdress', u'heavy', u'heighten', u'helmet', u'help', u'high', u'highlight', u'hill', u'hindu', u'history', u'hizo', u'hold', u'holy', u'home', u'horizon', u'horizontal', u'horn', u'horse', u'horseback', u'house', u'human', u'hut', u'iconography', u'identical', u'identify', u'ii', u'iii', u'illustrate', u'illustration', u'image', u'immediately', u'important', u'include', u'indent', u'india', u'indian', u'indicate', u'individual', u'information', u'inlay', u'inn', u'inner', u'inscribe', u'inscribed', u'inscription', u'insect', u'insects', u'instance', u'instrument', u'intaglio', u'interesting', u'interior', u'interleave', u'italian', u'iva', u'jacket', u'jap', u'japan', u'japanese', u'jewellery', u'john', u'joseph', u'july', u'just', u'kaftan', u'kano', u'katherine', u'kha', u'kind', u'king', u'knee', u'kneel', u'know', u'kyoto', u'label', u'lady', u'lake', u'lamp', u'land', u'landscape', u'lane', u'large', u'late', u'later', u'lay', u'lead', u'leaf', u'lean', u'leather', u'leave', u'left', u'leg', u'length', u'letter', u'lie', u'life', u'lift', u'light', u'lightly', u'like', u'likely', u'line', u'lion', u'literature', u'little', u'live', u'london', u'long', u'longer', u'look', u'looped', u'loose', u'lotus', u'love', u'low', u'ma', u'madras', u'main', u'mainly', u'major', u'majority', u'make', u'male', u'man', u'manner', u'manual', u'manuscript', u'marble', u'margin', u'mark', u'mary', u'mask', u'master', u'meadow', u'mendicant', u'merian', u'mica', u'mid', u'middle', u'military', u'miniature', u'model', u'monk', u'monkey', u'monochrome', u'monster', u'month', u'moon', u'moth', u'mother', u'motif', u'mount', u'mountain', u'moustache', u'mouth', u'mudra', u'mughal', u'museum', u'musician', u'naked', u'narrow', u'national', u'native', u'natural', u'near', u'nearby', u'neck', u'necklace', u'new', u'night', u'nihon', u'nineteenth', u'ninety', u'north', u'nose', u'note', u'nude', u'number', u'numerous', u'object', u'occasionally', u'occupation', u'offer', u'official', u'oil', u'old', u'opaque', u'open', u'opening', u'opposite', u'orange', u'order', u'original', u'originally', u'ornament', u'outline', u'outside', u'oval', u'oxidised', u'page', u'paint', u'painter', u'painting', u'pair', u'palace', u'pale', u'palm', u'palma', u'panel', u'paper', u'particular', u'particularly', u'partly', u'pass', u'paste', u'path', u'patron', u'pattern', u'paul', u'paulownia', u'pavilion', u'peacock', u'peasant', u'pen', u'pencil', u'people', u'perch', u'period', u'persian', u'peter', u'photograph', u'pictorial', u'picture', u'piece', u'pigment', u'pine', u'pink', u'pipe', u'pl', u'place', u'plain', u'plant', u'plaster', u'plate', u'play', u'playing', u'plum', u'poem', u'poet', u'point', u'popular', u'portrait', u'position', u'possible', u'possibly', u'pp', u'precision', u'prepare', u'prepared', u'presence', u'present', u'previously', u'priest', u'prince', u'print', u'private', u'probably', u'procession', u'produce', u'profile', u'province', u'ptg', u'pu', u'publish', u'pull', u'pupil', u'purple', u'putto', u'quan', u'quarter', u'queen', u'quite', u'raise', u'raja', u'range', u'read', u'reading', u'receive', u'recline', u'record', u'recto', u'red', u'refer', u'register', u'relate', u'relief', u'religious', u'remain', u'remove', u'rendering', u'represent', u'rest', u'return', u'reveal', u'reverse', u'rid', u'right', u'ring', u'rise', u'river', u'road', u'robe', u'roberts', u'rock', u'rocky', u'roman', u'rome', u'roof', u'room', u'round', u'row', u'royal', u'ruin', u'rule', u'ruler', u'run', u'sacred', u'saint', u'sari', u'sash', u'satyr', u'say', u'scene', u'scholar', u'school', u'screen', u'scroll', u'sculpture', u'sea', u'seal', u'sealed', u'seat', u'second', u'section', u'sense', u'separate', u'september', u'sequence', u'series', u'servant', u'set', u'setting', u'seven', u'seventeenth', u'shading', u'shadow', u'shape', u'shawl', u'sheep', u'sheet', u'shell', u'shells', u'shield', u'ship', u'shoe', u'shore', u'short', u'shoulder', u'shrine', u'sign', u'signature', u'silk', u'silver', u'similar', u'single', u'sir', u'sit', u'site', u'sketch', u'skin', u'skirt', u'sky', u'sleeve', u'slender', u'slight', u'slightly', u'small', u'smith', u'smoke', u'snake', u'society', u'soldier', u'son', u'south', u'space', u'spear', u'specially', u'spirit', u'spring', u'square', u'st', u'staff', u'stand', u'standing', u'star', u'statue', u'stem', u'step', u'stick', u'stone', u'storage', u'store', u'story', u'stream', u'street', u'string', u'strip', u'striped', u'studio', u'study', u'style', u'subject', u'suggest', u'sultan', u'sun', u'support', u'surface', u'surround', u'survive', u'sword', u'table', u'taikan', u'tail', u'talati', u'tall', u'technique', u'telugu', u'temple', u'terrace', u'text', u'textile', u'thang', u'theme', u'think', u'thirty', u'thoughts', u'throne', u'tie', u'tiger', u'time', u'title', u'tokyo', u'tomb', u'tool', u'touch', u'tower', u'town', u'trace', u'trade', u'tradition', u'traditional', u'transfer', u'travel', u'tree', u'trouser', u'ttc', u'tunic', u'turban', u'turkish', u'turn', u'type', u'typical', u'ukiyo', u'unattributed', u'underdrawing', u'uniform', u'unknown', u'unusual', u'upper', u'use', u'van', u'vara', u'various', u'vase', u'vellum', u'version', u'verso', u'vertical', u'vessel', u'vi', u'victoria', u'view', u'village', u'virgin', u'visible', u'visit', u'vol', u'volume', u'waist', u'walk', u'wall', u'warrior', u'wash', u'watch', u'water', u'watercolour', u'waterfall', u'watermark', u'watermarked', u'way', u'wear', u'west', u'western', u'whatman', u'white', u'whitfield', u'wide', u'wife', u'william', u'willow', u'wind', u'windmill', u'window', u'wing', u'winged', u'woman', u'wood', u'wooden', u'work', u'world', u'wreath', u'write', u'year', u'yellow', u'young', u'youth']\n"
     ]
    }
   ],
   "source": [
    "pca_components = pca.components_\n",
    "print pca_components.shape\n",
    "feature_list = vectorizer.get_feature_names()\n",
    "print feature_list\n",
    "#index_feature = feature_list.index(input_word)\n",
    "#input_projection_pca = pca_components[:,index_feature]"
   ]
  },
  {
   "cell_type": "code",
   "execution_count": 292,
   "metadata": {
    "collapsed": false
   },
   "outputs": [
    {
     "name": "stdout",
     "output_type": "stream",
     "text": [
      "(69787, 10)\n"
     ]
    }
   ],
   "source": [
    "print document_matrix_pca_transformed.shape\n",
    "#print document_matrix_pca_transformed[0]"
   ]
  },
  {
   "cell_type": "code",
   "execution_count": 639,
   "metadata": {
    "collapsed": false
   },
   "outputs": [
    {
     "data": {
      "image/png": "[encoded data removed]",
      "text/plain": [
       "<matplotlib.figure.Figure at 0x14f4c0610>"
      ]
     },
     "metadata": {},
     "output_type": "display_data"
    },
    {
     "data": {
      "image/png": "[encoded data removed]",
      "text/plain": [
       "<matplotlib.figure.Figure at 0x14deafe10>"
      ]
     },
     "metadata": {},
     "output_type": "display_data"
    }
   ],
   "source": [
    "% matplotlib inline\n",
    "import matplotlib as mlp\n",
    "import matplotlib.pyplot as plt\n",
    "#import seaborn as sns\n",
    "plt.figure(figsize=(10, 10));\n",
    "sns.set_style(\"white\")\n",
    "fontsize=20\n",
    "title_fontsize=40\n",
    "plt.title('Explained Variance Ratio \\nOver Component',size=title_fontsize);\n",
    "plt.plot(pca.explained_variance_ratio_,color=\"darkblue\",linewidth=20,alpha=0.8);\n",
    "plt.plot(pca.explained_variance_ratio_,'o',color=\"darkred\",markersize=25,alpha=0.4);\n",
    "plt.xticks(np.array([0,4.5,9]),size=fontsize)\n",
    "plt.yticks(np.array([0.005,0.022,0.04]),size=fontsize)\n",
    "plt.grid(True)\n",
    "plt.tight_layout()\n",
    "plt.show()\n",
    "plt.figure(figsize=(10, 10));\n",
    "plt.title('Cumulative Explained Variance \\nOver EigenVectors',size=title_fontsize);\n",
    "plt.plot(pca.explained_variance_ratio_.cumsum(),color=\"darkblue\",linewidth=20,alpha=0.8);\n",
    "plt.plot(pca.explained_variance_ratio_.cumsum(),'o',color=\"darkred\",markersize=25,alpha=0.4);\n",
    "plt.xticks(np.array([0,4.5,9]),size=fontsize)\n",
    "plt.yticks(np.array([0.02,0.09,0.18]),size=fontsize)\n",
    "plt.grid(True)\n",
    "plt.tight_layout()\n",
    "plt.show()"
   ]
  },
  {
   "cell_type": "code",
   "execution_count": null,
   "metadata": {
    "collapsed": true
   },
   "outputs": [],
   "source": [
    "#links = [tup[0] for tup in not_cleaned_description_pairs_c]\n",
    "#descriptions = [tup[1] for tup in not_cleaned_description_pairs_c]\n",
    "similarity_df = pd.DataFrame({'link': links,\n",
    "                              'description': joined_token_list,\n",
    "                              'sim_score': similarity_score})"
   ]
  },
  {
   "cell_type": "code",
   "execution_count": 782,
   "metadata": {
    "collapsed": false
   },
   "outputs": [
    {
     "data": {
      "text/plain": [
       "0             0323\n",
       "1             0617\n",
       "2             0704\n",
       "3             0713\n",
       "4               10\n",
       "5              102\n",
       "6               11\n",
       "7               12\n",
       "8              121\n",
       "9             1210\n",
       "10             136\n",
       "11             138\n",
       "12              14\n",
       "13             141\n",
       "14              15\n",
       "15              16\n",
       "16             160\n",
       "17            1637\n",
       "18              17\n",
       "19             179\n",
       "20            1794\n",
       "21            1795\n",
       "22              18\n",
       "23            1800\n",
       "24            1805\n",
       "25            1811\n",
       "26            1814\n",
       "27            1820\n",
       "28            1855\n",
       "29            1881\n",
       "          ...     \n",
       "929      waterfall\n",
       "930      watermark\n",
       "931    watermarked\n",
       "932            way\n",
       "933           wear\n",
       "934           west\n",
       "935        western\n",
       "936        whatman\n",
       "937          white\n",
       "938      whitfield\n",
       "939           wide\n",
       "940           wife\n",
       "941        william\n",
       "942         willow\n",
       "943           wind\n",
       "944       windmill\n",
       "945         window\n",
       "946           wing\n",
       "947         winged\n",
       "948          woman\n",
       "949           wood\n",
       "950         wooden\n",
       "951           work\n",
       "952          world\n",
       "953         wreath\n",
       "954          write\n",
       "955           year\n",
       "956         yellow\n",
       "957          young\n",
       "958          youth\n",
       "Name: 0, dtype: object"
      ]
     },
     "execution_count": 782,
     "metadata": {},
     "output_type": "execute_result"
    }
   ],
   "source": [
    "feature_list_df[0]"
   ]
  },
  {
   "cell_type": "code",
   "execution_count": 809,
   "metadata": {
    "collapsed": true
   },
   "outputs": [],
   "source": [
    "pca_components_df = pd.DataFrame(pca_components)\n",
    "pca_components_df.to_csv('pca_components_df.csv')"
   ]
  },
  {
   "cell_type": "code",
   "execution_count": 811,
   "metadata": {
    "collapsed": false
   },
   "outputs": [],
   "source": [
    "pca_components_recovered = pd.read_csv('pca_components_df.csv')"
   ]
  },
  {
   "cell_type": "code",
   "execution_count": 815,
   "metadata": {
    "collapsed": false
   },
   "outputs": [
    {
     "data": {
      "text/plain": [
       "array([[ 0.00059847, -0.01142062,  0.03171647,  0.00821903, -0.00168707,\n",
       "         0.00498687, -0.00171635, -0.00058854,  0.00380022, -0.03788069],\n",
       "       [-0.00718576, -0.0408336 ,  0.10661479, -0.0033941 , -0.0044562 ,\n",
       "        -0.01291075, -0.00826384, -0.00460518, -0.00471912,  0.00946394],\n",
       "       [ 0.00724941,  0.06254547,  0.02089728, -0.00546361,  0.00794996,\n",
       "        -0.00145075,  0.01401985,  0.00484794, -0.00330027, -0.02439894],\n",
       "       [-0.01023512, -0.10646628, -0.01590463,  0.00494221, -0.00678834,\n",
       "        -0.00968783, -0.0122846 , -0.0043441 , -0.00691407, -0.0093217 ],\n",
       "       [ 0.00320369,  0.11544639,  0.02297807, -0.01362208, -0.00154111,\n",
       "         0.01074264, -0.00309093, -0.00568462,  0.01984628,  0.00120751],\n",
       "       [-0.00030342, -0.05286461,  0.01060169,  0.0167526 , -0.00508572,\n",
       "         0.02439304, -0.00384134,  0.00119768, -0.01793743,  0.0116358 ],\n",
       "       [ 0.00784491, -0.0407498 , -0.00873621, -0.05920405, -0.00599846,\n",
       "         0.02435381, -0.0087383 , -0.00179492, -0.01307579, -0.01935172],\n",
       "       [-0.01240275,  0.01942088, -0.02250077,  0.01016816,  0.00124474,\n",
       "         0.00907267,  0.00184802, -0.00637357, -0.0019182 ,  0.00700743],\n",
       "       [ 0.01001512, -0.00102216,  0.00324361,  0.02101056,  0.00865182,\n",
       "         0.00120297,  0.00447408,  0.00444076, -0.01020831,  0.02297213],\n",
       "       [-0.00553446, -0.10082262,  0.01413102, -0.07054148, -0.00762752,\n",
       "        -0.00411901, -0.00925199, -0.00478767, -0.0042863 , -0.00773132]])"
      ]
     },
     "execution_count": 815,
     "metadata": {},
     "output_type": "execute_result"
    }
   ],
   "source": [
    "pca_components_recovered.iloc[:10, :10]\n",
    "pca_components_recovered.values[:10, 1:11]"
   ]
  },
  {
   "cell_type": "code",
   "execution_count": 768,
   "metadata": {
    "collapsed": false
   },
   "outputs": [],
   "source": [
    "feature_list = vectorizer.get_feature_names()\n",
    "feature_list_df = pd.DataFrame(feature_list)\n",
    "feature_list_df.to_csv('feature_list_df.csv')\n",
    "pca_components_df = pd.DataFrame(pca_components)\n",
    "pca_components_df.to_csv('pca_components_df.csv')\n",
    "document_matrix_pca_transformed_norm_df = pd.DataFrame(document_matrix_pca_transformed_norm)\n",
    "document_matrix_pca_transformed_norm_df.to_csv('document_matrix_pca_transformed_norm_df.csv')\n",
    "links_df = pd.DataFrame(links_)\n",
    "links_df.to_csv('links_df.csv')\n",
    "joined_token_list_df = pd.DataFrame(joined_token_list)\n",
    "joined_token_list_df.to_csv('joined_token_list_df.csv')"
   ]
  },
  {
   "cell_type": "code",
   "execution_count": 778,
   "metadata": {
    "collapsed": false
   },
   "outputs": [
    {
     "data": {
      "text/plain": [
       "numpy.ndarray"
      ]
     },
     "execution_count": 778,
     "metadata": {},
     "output_type": "execute_result"
    }
   ],
   "source": [
    "#feature_list = feature_list_df.to_list\n",
    "#feature_list_df[0].values.tolist()\n",
    "#type(pca_components)\n",
    "simila"
   ]
  },
  {
   "cell_type": "code",
   "execution_count": 808,
   "metadata": {
    "collapsed": false
   },
   "outputs": [
    {
     "name": "stdout",
     "output_type": "stream",
     "text": [
      "['None' 'None' 'None'\n",
      " 'http://www.britishmuseum.org/collectionimages/AN00539/AN00539168_001_l.jpg'\n",
      " 'None' 'None' 'None' 'None' 'None'\n",
      " 'http://www.britishmuseum.org/collectionimages/AN00071/AN00071343_001_l.jpg']\n",
      "[u'apparently', u'appear', u'apply', u'approach', u'arch', u'architectural', u'architecture', u'area', u'arm', u'armed', u'armour', u'arrow', u'art', u'artist', u'arts', u'asahi', u'assemblage', u'associate', u'attach', u'attack', u'attendant', u'attribute', u'august', u'avalokite', u'away', u'background', u'bamboo', u'band', u'bank', u'banner', u'bare', u'bark', u'base', u'basket', u'battle', u'bear', u'beard', u'bearded', u'bed', u'begin', u'bell', u'belong', u'belt', u'beneath', u'berchem', u'bijutsu', u'bind', u'bird', u'birds', u'black', u'blank', u'blind', u'blossom', u'blue', u'bm', u'board', u'boat', u'bodhisattva', u'body', u'bodycolour', u'book', u'boot', u'border', u'bow', u'bowl', u'box', u'boy', u'branch', u'breast', u'bridge', u'bright', u'brilliant', u'bring', u'british', u'broad', u'brocade', u'bronze', u'brown', u'brush', u'buddha', u'buddhist', u'buff', u'build', u'building', u'bull', u'bust', u'butterfly', u'calligraphy', u'canal', u'canopy', u'canvas', u'cap', u'caption', u'card', u'care', u'carry', u'cart', u'cartouche', u'case', u'caste']\n",
      "[[ 0.00059847 -0.01142062  0.03171647  0.00821903 -0.00168707  0.00498687\n",
      "  -0.00171635 -0.00058854  0.00380022 -0.03788069]\n",
      " [-0.00718576 -0.0408336   0.10661479 -0.0033941  -0.0044562  -0.01291075\n",
      "  -0.00826384 -0.00460518 -0.00471912  0.00946394]\n",
      " [ 0.00724941  0.06254547  0.02089728 -0.00546361  0.00794996 -0.00145075\n",
      "   0.01401985  0.00484794 -0.00330027 -0.02439894]\n",
      " [-0.01023512 -0.10646628 -0.01590463  0.00494221 -0.00678834 -0.00968783\n",
      "  -0.0122846  -0.0043441  -0.00691407 -0.0093217 ]\n",
      " [ 0.00320369  0.11544639  0.02297807 -0.01362208 -0.00154111  0.01074264\n",
      "  -0.00309093 -0.00568462  0.01984628  0.00120751]\n",
      " [-0.00030342 -0.05286461  0.01060169  0.0167526  -0.00508572  0.02439304\n",
      "  -0.00384134  0.00119768 -0.01793743  0.0116358 ]\n",
      " [ 0.00784491 -0.0407498  -0.00873621 -0.05920405 -0.00599846  0.02435381\n",
      "  -0.0087383  -0.00179492 -0.01307579 -0.01935172]\n",
      " [-0.01240275  0.01942088 -0.02250077  0.01016816  0.00124474  0.00907267\n",
      "   0.00184802 -0.00637357 -0.0019182   0.00700743]\n",
      " [ 0.01001512 -0.00102216  0.00324361  0.02101056  0.00865182  0.00120297\n",
      "   0.00447408  0.00444076 -0.01020831  0.02297213]\n",
      " [-0.00553446 -0.10082262  0.01413102 -0.07054148 -0.00762752 -0.00411901\n",
      "  -0.00925199 -0.00478767 -0.0042863  -0.00773132]]\n",
      "          0         1         2         3         4         5         6  \\\n",
      "0  0.000598 -0.011421  0.031716  0.008219 -0.001687  0.004987 -0.001716   \n",
      "1 -0.007186 -0.040834  0.106615 -0.003394 -0.004456 -0.012911 -0.008264   \n",
      "2  0.007249  0.062545  0.020897 -0.005464  0.007950 -0.001451  0.014020   \n",
      "3 -0.010235 -0.106466 -0.015905  0.004942 -0.006788 -0.009688 -0.012285   \n",
      "4  0.003204  0.115446  0.022978 -0.013622 -0.001541  0.010743 -0.003091   \n",
      "5 -0.000303 -0.052865  0.010602  0.016753 -0.005086  0.024393 -0.003841   \n",
      "6  0.007845 -0.040750 -0.008736 -0.059204 -0.005998  0.024354 -0.008738   \n",
      "7 -0.012403  0.019421 -0.022501  0.010168  0.001245  0.009073  0.001848   \n",
      "8  0.010015 -0.001022  0.003244  0.021011  0.008652  0.001203  0.004474   \n",
      "9 -0.005534 -0.100823  0.014131 -0.070541 -0.007628 -0.004119 -0.009252   \n",
      "\n",
      "          7         8         9  \n",
      "0 -0.000589  0.003800 -0.037881  \n",
      "1 -0.004605 -0.004719  0.009464  \n",
      "2  0.004848 -0.003300 -0.024399  \n",
      "3 -0.004344 -0.006914 -0.009322  \n",
      "4 -0.005685  0.019846  0.001208  \n",
      "5  0.001198 -0.017937  0.011636  \n",
      "6 -0.001795 -0.013076 -0.019352  \n",
      "7 -0.006374 -0.001918  0.007007  \n",
      "8  0.004441 -0.010208  0.022972  \n",
      "9 -0.004788 -0.004286 -0.007731  \n",
      "[[-0.63820821  0.13929161  0.21615397  0.61769637  0.26816374  0.08687259\n",
      "   0.10374434 -0.19722342  0.03299488 -0.12169434]\n",
      " [-0.29848339 -0.05022617  0.32862512  0.14935467 -0.04820125 -0.37711155\n",
      "  -0.02881063  0.71151889 -0.10525904  0.33967422]\n",
      " [-0.52144766  0.12415245  0.09862315  0.68705438  0.32009768  0.0725651\n",
      "   0.09437446  0.30689288  0.13543699  0.04179809]\n",
      " [-0.69115477  0.12684428  0.05515584  0.63326704  0.25275059  0.02142554\n",
      "   0.0419172   0.18042002  0.00749181  0.05865005]\n",
      " [-0.72097582  0.13141383  0.07799268  0.61844007  0.23400101  0.03690648\n",
      "   0.04848315  0.0894736   0.08720013  0.01716744]\n",
      " [-0.56982381  0.09976191  0.25545097  0.61456118  0.16850308  0.41206138\n",
      "  -0.01257892 -0.00718355 -0.1403946  -0.06556984]\n",
      " [-0.55636332 -0.12123363  0.45371315  0.25121815 -0.19807112  0.06207491\n",
      "  -0.13919233  0.3107988  -0.45408107  0.20383967]\n",
      " [-0.57498722 -0.11987704  0.65751517  0.01268166 -0.34210368 -0.18010207\n",
      "  -0.05547507 -0.10223813 -0.02887218  0.24227418]\n",
      " [-0.38441091 -0.12117248  0.53022777 -0.09980105 -0.39248409 -0.04033802\n",
      "  -0.08188161  0.29447812  0.39494864  0.37598729]\n",
      " [-0.16285027 -0.18302705  0.4471069  -0.11302864 -0.60084194 -0.21287148\n",
      "  -0.04361086 -0.05133582  0.49353939  0.26992062]]\n"
     ]
    }
   ],
   "source": [
    "print links_[0:10]\n",
    "print feature_list[100:200]\n",
    "print pca_components[:10,:10]\n",
    "print pca_components_df.iloc[:10,:10]\n",
    "print document_matrix_pca_transformed_norm[:10, :10]\n"
   ]
  },
  {
   "cell_type": "code",
   "execution_count": 825,
   "metadata": {
    "collapsed": false
   },
   "outputs": [],
   "source": [
    "\n",
    "\n",
    "def similarity(input_word):\n",
    "    \n",
    "    feature_list = vectorizer.get_feature_names()\n",
    "    try:\n",
    "        index_feature = feature_list.index(input_word)\n",
    "\n",
    "        input_projection_pca = pca_components[:,index_feature]\n",
    "        input_projection_pca = normalize(input_projection_pca, norm='l2', axis=1, copy=True)\n",
    "    #print input_projection_pca\n",
    "\n",
    "        def cosine_similarity(array2):\n",
    "            return np.dot(np.squeeze(input_projection_pca), array2)\n",
    "    \n",
    "        similarity_score = np.apply_along_axis(cosine_similarity, axis=1, arr=document_matrix_pca_transformed_norm)\n",
    "    #print similarity_score.shape\n",
    "        links_=np.squeeze(links)\n",
    "\n",
    "        similarity_df = pd.DataFrame({'link': links_,\n",
    "                              'description': joined_token_list,\n",
    "                              'sim_score': similarity_score})\n",
    "\n",
    "        similarity_df_sorted = similarity_df.sort('sim_score', ascending=[0])\n",
    "\n",
    "        deduplicated = similarity_df_sorted.drop_duplicates(['description'])\n",
    "    #pd.options.display.max_colwidth = 2000\n",
    "    \n",
    "        deduplicated = deduplicated[deduplicated.link!='None']\n",
    "        p  = deduplicated['link'].values.tolist()\n",
    "    except:\n",
    "        return \"error_message\"\n",
    "    return p[0:10]"
   ]
  },
  {
   "cell_type": "code",
   "execution_count": 795,
   "metadata": {
    "collapsed": false
   },
   "outputs": [
    {
     "name": "stdout",
     "output_type": "stream",
     "text": [
      "[[ 0.24802487 -0.1516156  -0.31298372  0.33696424 -0.01721526 -0.23507977\n",
      "  -0.05452222  0.65008316 -0.44621891  0.15408339]]\n"
     ]
    }
   ],
   "source": [
    "    print input_projection_pca"
   ]
  },
  {
   "cell_type": "code",
   "execution_count": 838,
   "metadata": {
    "collapsed": false
   },
   "outputs": [
    {
     "name": "stdout",
     "output_type": "stream",
     "text": [
      "error_message\n",
      "this will do the calculation\n"
     ]
    }
   ],
   "source": [
    "h = similarity(\"jack\")\n",
    "print h\n",
    "#if h in [\"error_message\"]\n",
    "#    print \"r\"\n",
    "answer = str(similarity(\"jack\"))\n",
    "if answer == \"error_message\":\n",
    "  print(\"this will do the calculation\")\n"
   ]
  },
  {
   "cell_type": "code",
   "execution_count": 662,
   "metadata": {
    "collapsed": false
   },
   "outputs": [],
   "source": [
    "np.linalg.norm(document_matrix_pca_transformed_norm[10, :])\n",
    "#np.linalg.norm(input_projection_pca_)\n",
    "links_=np.squeeze(links)"
   ]
  },
  {
   "cell_type": "code",
   "execution_count": 820,
   "metadata": {
    "collapsed": false
   },
   "outputs": [
    {
     "name": "stdout",
     "output_type": "stream",
     "text": [
      "[[ 0.21452582 -0.21856302  0.14723376  0.01859437 -0.51174454 -0.19382712\n",
      "   0.1839194  -0.29128675  0.63974498 -0.23829808]]\n"
     ]
    },
    {
     "name": "stderr",
     "output_type": "stream",
     "text": [
      "/Users/virginiakinniburgh/Library/Enthought/Canopy_64bit/User/lib/python2.7/site-packages/sklearn/utils/validation.py:386: DeprecationWarning: Passing 1d arrays as data is deprecated in 0.17 and willraise ValueError in 0.19. Reshape your data either using X.reshape(-1, 1) if your data has a single feature or X.reshape(1, -1) if it contains a single sample.\n",
      "  DeprecationWarning)\n"
     ]
    }
   ],
   "source": [
    "input_word='pipe'\n",
    "index_feature = feature_list.index(input_word)\n",
    "input_projection_pca = pca_components[:,index_feature]\n",
    "input_projection_pca = normalize(input_projection_pca, norm='l2', axis=1, copy=True)\n",
    "pca_components_normalized = normalize(pca_components, norm='l2', axis=0, copy=True)\n",
    "print input_projection_pca\n",
    "#numpy.dot(input_projection_pca, array2)"
   ]
  },
  {
   "cell_type": "code",
   "execution_count": 821,
   "metadata": {
    "collapsed": false
   },
   "outputs": [
    {
     "name": "stdout",
     "output_type": "stream",
     "text": [
      "(959,)\n",
      "(10,)\n"
     ]
    },
    {
     "name": "stderr",
     "output_type": "stream",
     "text": [
      "/Users/virginiakinniburgh/Library/Enthought/Canopy_64bit/User/lib/python2.7/site-packages/ipykernel/__main__.py:12: FutureWarning: sort(columns=....) is deprecated, use sort_values(by=.....)\n"
     ]
    },
    {
     "data": {
      "text/html": [
       "<div>\n",
       "<table border=\"1\" class=\"dataframe\">\n",
       "  <thead>\n",
       "    <tr style=\"text-align: right;\">\n",
       "      <th></th>\n",
       "      <th>sim_score</th>\n",
       "      <th>words</th>\n",
       "    </tr>\n",
       "  </thead>\n",
       "  <tbody>\n",
       "    <tr>\n",
       "      <th>660</th>\n",
       "      <td>1.000000</td>\n",
       "      <td>pipe</td>\n",
       "    </tr>\n",
       "    <tr>\n",
       "      <th>348</th>\n",
       "      <td>0.955400</td>\n",
       "      <td>eye</td>\n",
       "    </tr>\n",
       "    <tr>\n",
       "      <th>471</th>\n",
       "      <td>0.949875</td>\n",
       "      <td>instrument</td>\n",
       "    </tr>\n",
       "    <tr>\n",
       "      <th>369</th>\n",
       "      <td>0.946435</td>\n",
       "      <td>floor</td>\n",
       "    </tr>\n",
       "    <tr>\n",
       "      <th>589</th>\n",
       "      <td>0.936835</td>\n",
       "      <td>neck</td>\n",
       "    </tr>\n",
       "    <tr>\n",
       "      <th>234</th>\n",
       "      <td>0.935901</td>\n",
       "      <td>close</td>\n",
       "    </tr>\n",
       "    <tr>\n",
       "      <th>416</th>\n",
       "      <td>0.921982</td>\n",
       "      <td>hand</td>\n",
       "    </tr>\n",
       "    <tr>\n",
       "      <th>799</th>\n",
       "      <td>0.917673</td>\n",
       "      <td>sit</td>\n",
       "    </tr>\n",
       "    <tr>\n",
       "      <th>921</th>\n",
       "      <td>0.916700</td>\n",
       "      <td>waist</td>\n",
       "    </tr>\n",
       "    <tr>\n",
       "      <th>839</th>\n",
       "      <td>0.915912</td>\n",
       "      <td>strip</td>\n",
       "    </tr>\n",
       "    <tr>\n",
       "      <th>870</th>\n",
       "      <td>0.913203</td>\n",
       "      <td>tie</td>\n",
       "    </tr>\n",
       "    <tr>\n",
       "      <th>459</th>\n",
       "      <td>0.911537</td>\n",
       "      <td>indicate</td>\n",
       "    </tr>\n",
       "    <tr>\n",
       "      <th>901</th>\n",
       "      <td>0.909549</td>\n",
       "      <td>upper</td>\n",
       "    </tr>\n",
       "    <tr>\n",
       "      <th>164</th>\n",
       "      <td>0.903781</td>\n",
       "      <td>bowl</td>\n",
       "    </tr>\n",
       "    <tr>\n",
       "      <th>195</th>\n",
       "      <td>0.903529</td>\n",
       "      <td>carry</td>\n",
       "    </tr>\n",
       "    <tr>\n",
       "      <th>590</th>\n",
       "      <td>0.903042</td>\n",
       "      <td>necklace</td>\n",
       "    </tr>\n",
       "    <tr>\n",
       "      <th>312</th>\n",
       "      <td>0.899708</td>\n",
       "      <td>dress</td>\n",
       "    </tr>\n",
       "    <tr>\n",
       "      <th>110</th>\n",
       "      <td>0.899655</td>\n",
       "      <td>armour</td>\n",
       "    </tr>\n",
       "    <tr>\n",
       "      <th>530</th>\n",
       "      <td>0.899317</td>\n",
       "      <td>long</td>\n",
       "    </tr>\n",
       "    <tr>\n",
       "      <th>780</th>\n",
       "      <td>0.897100</td>\n",
       "      <td>shawl</td>\n",
       "    </tr>\n",
       "  </tbody>\n",
       "</table>\n",
       "</div>"
      ],
      "text/plain": [
       "     sim_score       words\n",
       "660   1.000000        pipe\n",
       "348   0.955400         eye\n",
       "471   0.949875  instrument\n",
       "369   0.946435       floor\n",
       "589   0.936835        neck\n",
       "234   0.935901       close\n",
       "416   0.921982        hand\n",
       "799   0.917673         sit\n",
       "921   0.916700       waist\n",
       "839   0.915912       strip\n",
       "870   0.913203         tie\n",
       "459   0.911537    indicate\n",
       "901   0.909549       upper\n",
       "164   0.903781        bowl\n",
       "195   0.903529       carry\n",
       "590   0.903042    necklace\n",
       "312   0.899708       dress\n",
       "110   0.899655      armour\n",
       "530   0.899317        long\n",
       "780   0.897100       shawl"
      ]
     },
     "execution_count": 821,
     "metadata": {},
     "output_type": "execute_result"
    }
   ],
   "source": [
    "print np.squeeze(feature_list).shape\n",
    "print np.squeeze(input_projection_pca).shape\n",
    "\n",
    "input_projection_pca_ = np.squeeze(input_projection_pca)\n",
    "feature_list_ = np.squeeze(feature_list)\n",
    "\n",
    "simcos = np.dot(input_projection_pca_, pca_components_normalized)\n",
    "simcos = np.squeeze(simcos)\n",
    "\n",
    "similarity_input_projection = pd.DataFrame({'words': feature_list_,\n",
    "                              'sim_score': simcos})\n",
    "similarity_input_projection_sorted = similarity_input_projection.sort('sim_score', ascending=[0])\n",
    "\n",
    "similarity_input_projection_sorted_list = similarity_input_projection_sorted[0:20]\n",
    "\n",
    "similarity_input_projection_sorted_list\n",
    "\n",
    "#TO BE FILLED FOR VALIDATION \n",
    "#s.intersection(t)"
   ]
  },
  {
   "cell_type": "code",
   "execution_count": 741,
   "metadata": {
    "collapsed": false
   },
   "outputs": [
    {
     "data": {
      "text/plain": [
       "[u'neck',\n",
       " u'long',\n",
       " u'bowl',\n",
       " u'necklace',\n",
       " u'waist',\n",
       " u'shawl',\n",
       " u'skirt',\n",
       " u'eye',\n",
       " u'feather',\n",
       " u'tie']"
      ]
     },
     "execution_count": 741,
     "metadata": {},
     "output_type": "execute_result"
    }
   ],
   "source": [
    "#trees_['health'][trees_.health==2]= trees_['health'].map(recode0)\n",
    "#f\n",
    "h = f[f.words!='neck']\n",
    "p  = f['words'].values.tolist()\n",
    "p[0:10]\n"
   ]
  },
  {
   "cell_type": "code",
   "execution_count": 727,
   "metadata": {
    "collapsed": false
   },
   "outputs": [
    {
     "name": "stderr",
     "output_type": "stream",
     "text": [
      "/Users/virginiakinniburgh/Library/Enthought/Canopy_64bit/User/lib/python2.7/site-packages/sklearn/utils/validation.py:386: DeprecationWarning: Passing 1d arrays as data is deprecated in 0.17 and willraise ValueError in 0.19. Reshape your data either using X.reshape(-1, 1) if your data has a single feature or X.reshape(1, -1) if it contains a single sample.\n",
      "  DeprecationWarning)\n",
      "/Users/virginiakinniburgh/Library/Enthought/Canopy_64bit/User/lib/python2.7/site-packages/ipykernel/__main__.py:23: FutureWarning: sort(columns=....) is deprecated, use sort_values(by=.....)\n"
     ]
    }
   ],
   "source": [
    "g = similarity(\"cow\")"
   ]
  },
  {
   "cell_type": "code",
   "execution_count": null,
   "metadata": {
    "collapsed": false
   },
   "outputs": [],
   "source": [
    "g(\"link\")"
   ]
  },
  {
   "cell_type": "code",
   "execution_count": null,
   "metadata": {
    "collapsed": false
   },
   "outputs": [],
   "source": [
    "input_word='grass'\n",
    "feature_list = vectorizer.get_feature_names()\n",
    "index_feature = feature_list.index(input_word)\n",
    "input_projection_pca = pca_components[:,index_feature]\n",
    "similarity_score = np.apply_along_axis(cosine_similarity, axis=1, arr=document_matrix_pca_transformed_norm)\n",
    "len(similarity_score)\n",
    "def cosine_similarity(array2):\n",
    "        return np.dot(input_projection_pca, array2)\n",
    "    \n",
    "similarity_score = np.apply_along_axis(cosine_similarity, axis=1, arr=document_matrix_pca_transformed_norm)\n",
    "\n",
    "\n"
   ]
  },
  {
   "cell_type": "code",
   "execution_count": null,
   "metadata": {
    "collapsed": false
   },
   "outputs": [],
   "source": [
    "links = [tup[0] for tup in not_cleaned_description_pairs_c]\n",
    "descriptions = [tup[1] for tup in not_cleaned_description_pairs_c]\n",
    "similarity_df = pd.DataFrame({'link': links,\n",
    "                              'description': clean_description,\n",
    "                              'sim_score': similarity_score})"
   ]
  },
  {
   "cell_type": "code",
   "execution_count": null,
   "metadata": {
    "collapsed": false
   },
   "outputs": [],
   "source": [
    "not_cleaned_description_pairs_c[0]"
   ]
  },
  {
   "cell_type": "code",
   "execution_count": null,
   "metadata": {
    "collapsed": false,
    "scrolled": true
   },
   "outputs": [],
   "source": [
    "\n",
    "the_result = pd.read_csv(\"paintings.csv\")\n",
    "the_result = the_result.head()\n",
    "print the_result.head()\n",
    "#the_result[description]"
   ]
  },
  {
   "cell_type": "code",
   "execution_count": null,
   "metadata": {
    "collapsed": false
   },
   "outputs": [],
   "source": [
    "\n",
    "\n",
    "\n",
    "np.histogram(similarity_score)\n",
    "    \n",
    "\n",
    "hist, bin_edges = np.histogram(similarity_score)\n",
    "\n",
    "nbins = hist.size\n",
    "\n",
    "plt.bar(bin_edges[:-1], hist, width=bin_edges[1]-bin_edges[0], color='red', alpha=0.5)\n",
    "plt.hist(similarity_score, bins=nbins, alpha=0.5)\n",
    "plt.grid(True)\n",
    "plt.show()"
   ]
  },
  {
   "cell_type": "code",
   "execution_count": null,
   "metadata": {
    "collapsed": false
   },
   "outputs": [],
   "source": [
    "\n",
    "the_result = the_result.head()\n"
   ]
  },
  {
   "cell_type": "code",
   "execution_count": null,
   "metadata": {
    "collapsed": true
   },
   "outputs": [],
   "source": []
  }
 ],
 "metadata": {
  "kernelspec": {
   "display_name": "Python 2",
   "language": "python",
   "name": "python2"
  },
  "language_info": {
   "codemirror_mode": {
    "name": "ipython",
    "version": 2
   },
   "file_extension": ".py",
   "mimetype": "text/x-python",
   "name": "python",
   "nbconvert_exporter": "python",
   "pygments_lexer": "ipython2",
   "version": "2.7.10"
  }
 },
 "nbformat": 4,
 "nbformat_minor": 0
}
